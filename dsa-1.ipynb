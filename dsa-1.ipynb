{
 "cells": [
  {
   "cell_type": "markdown",
   "id": "2aa1cfb2",
   "metadata": {},
   "source": [
    "Q1.<aside>\n",
    "💡  Given an array of integers nums and an integer target, return indices of the two numbers such that they add up to target.\n",
    "\n",
    "You may assume that each input would have exactly one solution, and you may not use the same element twice.\n",
    "\n",
    "You can return the answer in any order.\n",
    "\n",
    "**Example:**\n",
    "Input: nums = [2,7,11,15], target = 9\n",
    "Output0 [0,1]\n",
    "\n",
    "**Explanation:** Because nums[0] + nums[1] == 9, we return [0, 1]\n",
    "\n",
    "</aside>"
   ]
  },
  {
   "cell_type": "code",
   "execution_count": 38,
   "id": "756bda96",
   "metadata": {},
   "outputs": [],
   "source": [
    "def two_sum(nums, target):\n",
    "    sorted_nums = sorted(enumerate(nums))#, key=lambda x: x[1])\n",
    "    print(sorted_nums)\n",
    "    left, right = 0, len(nums) - 1\n",
    "\n",
    "    while left < right:\n",
    "        curr_sum = sorted_nums[left][1] + sorted_nums[right][1]\n",
    "        if curr_sum == target:\n",
    "            return [sorted_nums[left][0], sorted_nums[right][0]]\n",
    "        elif curr_sum < target:\n",
    "            left += 1\n",
    "        else:\n",
    "            right -= 1\n",
    "\n",
    "    return []\n"
   ]
  },
  {
   "cell_type": "code",
   "execution_count": 39,
   "id": "900e409b",
   "metadata": {},
   "outputs": [
    {
     "name": "stdout",
     "output_type": "stream",
     "text": [
      "[(0, 2), (1, 7), (2, 11), (3, 15), (4, 10)]\n"
     ]
    },
    {
     "data": {
      "text/plain": [
       "[0, 1]"
      ]
     },
     "execution_count": 39,
     "metadata": {},
     "output_type": "execute_result"
    }
   ],
   "source": [
    "two_sum([2,7,11,15,10],9)"
   ]
  },
  {
   "cell_type": "code",
   "execution_count": 40,
   "id": "42049182",
   "metadata": {},
   "outputs": [
    {
     "name": "stdout",
     "output_type": "stream",
     "text": [
      "[(0, 2), (1, 7), (2, 11), (3, 15)]\n"
     ]
    },
    {
     "data": {
      "text/plain": [
       "[0, 3]"
      ]
     },
     "execution_count": 40,
     "metadata": {},
     "output_type": "execute_result"
    }
   ],
   "source": [
    "two_sum([2,7,11,15],17)"
   ]
  },
  {
   "cell_type": "markdown",
   "id": "eca19a37",
   "metadata": {},
   "source": [
    "<aside>\n",
    "💡 Given an integer array nums and an integer val, remove all occurrences of val in nums in-place. The order of the elements may be changed. Then return the number of elements in nums which are not equal to val.\n",
    "\n",
    "Consider the number of elements in nums which are not equal to val be k, to get accepted, you need to do the following things:\n",
    "\n",
    "- Change the array nums such that the first k elements of nums contain the elements which are not equal to val. The remaining elements of nums are not important as well as the size of nums.\n",
    "- Return k.\n",
    "\n",
    "**Example :**\n",
    "Input: nums = [3,2,2,3], val = 3\n",
    "Output: 2, nums = [2,2,_*,_*]\n",
    "\n",
    "**Explanation:** Your function should return k = 2, with the first two elements of nums being 2. It does not matter what you leave beyond the returned k (hence they are underscores)\n",
    "\n",
    "</aside>"
   ]
  },
  {
   "cell_type": "code",
   "execution_count": 46,
   "id": "e9828148",
   "metadata": {},
   "outputs": [],
   "source": [
    "def remove_element(nums, val):\n",
    "    nums[:] = [i for i in nums if i != val]\n",
    "    print(nums)\n",
    "    return len(nums)\n"
   ]
  },
  {
   "cell_type": "code",
   "execution_count": 47,
   "id": "06cf661b",
   "metadata": {},
   "outputs": [
    {
     "name": "stdout",
     "output_type": "stream",
     "text": [
      "[2, 2]\n"
     ]
    },
    {
     "data": {
      "text/plain": [
       "2"
      ]
     },
     "execution_count": 47,
     "metadata": {},
     "output_type": "execute_result"
    }
   ],
   "source": [
    "remove_element([3,2,2,3],3)"
   ]
  },
  {
   "cell_type": "markdown",
   "id": "4019fe07",
   "metadata": {},
   "source": [
    "<aside>\n",
    "💡  You are given a large integer represented as an integer array digits, where each digits[i] is the ith digit of the integer. The digits are ordered from most significant to least significant in left-to-right order. The large integer does not contain any leading 0's.\n",
    "\n",
    "Increment the large integer by one and return the resulting array of digits.\n",
    "\n",
    "**Example 1:**\n",
    "Input: digits = [1,2,3]\n",
    "Output: [1,2,4]\n",
    "\n",
    "**Explanation:** The array represents the integer 123.\n",
    "\n",
    "Incrementing by one gives 123 + 1 = 124.\n",
    "Thus, the result should be [1,2,4].\n",
    "\n",
    "</aside>"
   ]
  },
  {
   "cell_type": "code",
   "execution_count": 79,
   "id": "76e0207b",
   "metadata": {},
   "outputs": [
    {
     "name": "stdout",
     "output_type": "stream",
     "text": [
      "[1, 2, 4]\n"
     ]
    }
   ],
   "source": [
    "def increment_integer(digits):\n",
    "    n = len(digits)\n",
    "\n",
    "    for i in range(n - 1, -1, -1):\n",
    "        if digits[i] < 9:\n",
    "            digits[i] += 1\n",
    "            return digits\n",
    "        else:\n",
    "            digits[i] = 0\n",
    "\n",
    "    return [1] + digits\n",
    "\n",
    "# Example usage\n",
    "digits = [1, 2, 3]\n",
    "result = increment_integer(digits)\n",
    "print(result)  \n"
   ]
  },
  {
   "cell_type": "markdown",
   "id": "97ab3722",
   "metadata": {},
   "source": [
    "<aside>\n",
    "💡 You are given two integer arrays nums1 and nums2, sorted in non-decreasing order, and two integers m and n, representing the number of elements in nums1 and nums2 respectively.\n",
    "\n",
    "Merge nums1 and nums2 into a single array sorted in non-decreasing order.\n",
    "\n",
    "The final sorted array should not be returned by the function, but instead be stored inside the array nums1. To accommodate this, nums1 has a length of m + n, where the first m elements denote the elements that should be merged, and the last n elements are set to 0 and should be ignored. nums2 has a length of n.\n",
    "\n",
    "**Example 1:**\n",
    "Input: nums1 = [1,2,3,0,0,0], m = 3, nums2 = [2,5,6], n = 3\n",
    "Output: [1,2,2,3,5,6]\n",
    "\n",
    "**Explanation:** The arrays we are merging are [1,2,3] and [2,5,6].\n",
    "The result of the merge is [1,2,2,3,5,6] with the underlined elements coming from nums1.\n",
    "\n",
    "</aside>"
   ]
  },
  {
   "cell_type": "code",
   "execution_count": 97,
   "id": "a91638c6",
   "metadata": {},
   "outputs": [],
   "source": [
    "# if buit_in sorted is allowed"
   ]
  },
  {
   "cell_type": "code",
   "execution_count": 98,
   "id": "d1a84c1c",
   "metadata": {},
   "outputs": [],
   "source": [
    "def merging(nums1,nums2,m,n):\n",
    "    return sorted(nums1+nums2)"
   ]
  },
  {
   "cell_type": "code",
   "execution_count": 96,
   "id": "eb2b4d2c",
   "metadata": {},
   "outputs": [
    {
     "data": {
      "text/plain": [
       "[1, 2, 2, 3, 5, 6]"
      ]
     },
     "execution_count": 96,
     "metadata": {},
     "output_type": "execute_result"
    }
   ],
   "source": [
    " merging([1,2,3],[2,5,6],3,2)"
   ]
  },
  {
   "cell_type": "code",
   "execution_count": 99,
   "id": "b678c5f8",
   "metadata": {},
   "outputs": [
    {
     "name": "stdout",
     "output_type": "stream",
     "text": [
      "[1, 2, 2, 3, 5, 6]\n"
     ]
    }
   ],
   "source": [
    "def merge(nums1, m, nums2, n):\n",
    "    p1 = m - 1  # Pointer for nums1\n",
    "    p2 = n - 1  # Pointer for nums2\n",
    "    p = m + n - 1  # Pointer for merged array\n",
    "\n",
    "    while p1 >= 0 and p2 >= 0:\n",
    "        if nums1[p1] > nums2[p2]:\n",
    "            nums1[p] = nums1[p1]\n",
    "            p1 -= 1\n",
    "        else:\n",
    "            nums1[p] = nums2[p2]\n",
    "            p2 -= 1\n",
    "        p -= 1\n",
    "\n",
    "    # Copy remaining elements from nums2 to nums1 if any\n",
    "    nums1[:p2 + 1] = nums2[:p2 + 1]\n",
    "\n",
    "# Example usage\n",
    "nums1 = [1, 2, 3, 0, 0, 0]\n",
    "m = 3\n",
    "nums2 = [2, 5, 6]\n",
    "n = 3\n",
    "merge(nums1, m, nums2, n)\n",
    "print(nums1)  # Output: [1, 2, 2, 3, 5, 6]\n"
   ]
  },
  {
   "cell_type": "markdown",
   "id": "e6987d53",
   "metadata": {},
   "source": [
    "<aside>\n",
    "💡 Given an integer array nums, move all 0's to the end of it while maintaining the relative order of the nonzero elements.\n",
    "\n",
    "Note that you must do this in-place without making a copy of the array.\n",
    "\n",
    "**Example 1:**\n",
    "Input: nums = [0,1,0,3,12]\n",
    "Output: [1,3,12,0,0]\n",
    "\n",
    "</aside>"
   ]
  },
  {
   "cell_type": "code",
   "execution_count": 116,
   "id": "157f4825",
   "metadata": {},
   "outputs": [],
   "source": [
    "def array_modify(inp):\n",
    "    count=0\n",
    "    l3=[]\n",
    "    for i in range(len(inp)):\n",
    "        if inp[i]!=0:\n",
    "            l3.append(inp[i])\n",
    "        else:\n",
    "            count+=1\n",
    "    l3=l3+[0]*count\n",
    "    return l3"
   ]
  },
  {
   "cell_type": "code",
   "execution_count": 115,
   "id": "937cdddf",
   "metadata": {},
   "outputs": [
    {
     "data": {
      "text/plain": [
       "[1, 3, 12, 0, 0]"
      ]
     },
     "execution_count": 115,
     "metadata": {},
     "output_type": "execute_result"
    }
   ],
   "source": [
    "array_modify([0,1,0,3,12])"
   ]
  },
  {
   "cell_type": "markdown",
   "id": "fb57f96c",
   "metadata": {},
   "source": [
    "<aside>\n",
    "💡 You have a set of integers s, which originally contains all the numbers from 1 to n. Unfortunately, due to some error, one of the numbers in s got duplicated to another number in the set, which results in repetition of one number and loss of another number.\n",
    "\n",
    "You are given an integer array nums representing the data status of this set after the error.\n",
    "\n",
    "Find the number that occurs twice and the number that is missing and return them in the form of an array.\n",
    "\n",
    "**Example 1:**\n",
    "Input: nums = [1,2,2,4]\n",
    "Output: [2,3]\n",
    "\n",
    "</aside>"
   ]
  },
  {
   "cell_type": "code",
   "execution_count": 152,
   "id": "9a83c6e3",
   "metadata": {},
   "outputs": [],
   "source": [
    "#nums=[1,2,2,4]\n",
    "def nums_duplicate(nums):\n",
    "    l3=[]\n",
    "    for i in range(len(nums)-1):\n",
    "        if nums[i]==nums[i+1]:\n",
    "            l3.append(nums[i])\n",
    "            l3.append(nums[i+1]+1)\n",
    "    return l3"
   ]
  },
  {
   "cell_type": "code",
   "execution_count": 153,
   "id": "baac13a9",
   "metadata": {},
   "outputs": [
    {
     "data": {
      "text/plain": [
       "[2, 3]"
      ]
     },
     "execution_count": 153,
     "metadata": {},
     "output_type": "execute_result"
    }
   ],
   "source": [
    "nums_duplicate([1,2,2,4])"
   ]
  }
 ],
 "metadata": {
  "kernelspec": {
   "display_name": "Python 3 (ipykernel)",
   "language": "python",
   "name": "python3"
  },
  "language_info": {
   "codemirror_mode": {
    "name": "ipython",
    "version": 3
   },
   "file_extension": ".py",
   "mimetype": "text/x-python",
   "name": "python",
   "nbconvert_exporter": "python",
   "pygments_lexer": "ipython3",
   "version": "3.9.13"
  }
 },
 "nbformat": 4,
 "nbformat_minor": 5
}
