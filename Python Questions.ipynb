{
 "cells": [
  {
   "cell_type": "markdown",
   "id": "f28c50db",
   "metadata": {},
   "source": [
    "1. Write a Python program to reverse a string without using any built-in string reversal functions."
   ]
  },
  {
   "cell_type": "code",
   "execution_count": 45,
   "id": "66f09963",
   "metadata": {},
   "outputs": [],
   "source": [
    "def reversal(string):\n",
    "    reverse_string=''\n",
    "    for i in range(len(string)-1,-1,-1):\n",
    "        reverse_string+= string[i]\n",
    "    return reverse_string\n",
    "        \n",
    "        "
   ]
  },
  {
   "cell_type": "code",
   "execution_count": 46,
   "id": "458fd9b8",
   "metadata": {},
   "outputs": [
    {
     "data": {
      "text/plain": [
       "'labias'"
      ]
     },
     "execution_count": 46,
     "metadata": {},
     "output_type": "execute_result"
    }
   ],
   "source": [
    "reversal(\"saibal\")"
   ]
  },
  {
   "cell_type": "markdown",
   "id": "923e1803",
   "metadata": {},
   "source": [
    "2. Implement a function to check if a given string is a palindrome.\n"
   ]
  },
  {
   "cell_type": "code",
   "execution_count": 48,
   "id": "af3c0d43",
   "metadata": {},
   "outputs": [],
   "source": [
    "def palindrome(string):\n",
    "    reverse_string=''\n",
    "    for i in range(len(string)-1,-1,-1):\n",
    "        reverse_string+=string[i]\n",
    "    if reverse_string==string:\n",
    "        return \"PALINDROME....>True\"\n",
    "    else:\n",
    "        return \"NOT PALINDROME----->FALSE\""
   ]
  },
  {
   "cell_type": "code",
   "execution_count": 49,
   "id": "2615e291",
   "metadata": {},
   "outputs": [
    {
     "data": {
      "text/plain": [
       "'PALINDROME....>True'"
      ]
     },
     "execution_count": 49,
     "metadata": {},
     "output_type": "execute_result"
    }
   ],
   "source": [
    "palindrome(\"madam\")"
   ]
  },
  {
   "cell_type": "markdown",
   "id": "e49176e2",
   "metadata": {},
   "source": [
    "3. Write a program to find the largest element in a given list.\n"
   ]
  },
  {
   "cell_type": "code",
   "execution_count": 50,
   "id": "5979d75a",
   "metadata": {},
   "outputs": [],
   "source": [
    "def lar_element(nums):\n",
    "    large_element=float('-inf')\n",
    "    for i in range(len(nums)):\n",
    "        if nums[i]>large_element:\n",
    "            large_element = nums[i]\n",
    "    return large_element"
   ]
  },
  {
   "cell_type": "code",
   "execution_count": 51,
   "id": "698a8b67",
   "metadata": {},
   "outputs": [
    {
     "data": {
      "text/plain": [
       "67"
      ]
     },
     "execution_count": 51,
     "metadata": {},
     "output_type": "execute_result"
    }
   ],
   "source": [
    "lar_element([12,34,2,45,67])"
   ]
  },
  {
   "cell_type": "markdown",
   "id": "2da465fc",
   "metadata": {},
   "source": [
    "4. Implement a function to count the occurrence of each element in a list.\n"
   ]
  },
  {
   "cell_type": "code",
   "execution_count": 63,
   "id": "333fdaef",
   "metadata": {},
   "outputs": [],
   "source": [
    "def occurance(nums):\n",
    "    d={}\n",
    "    for i in range(len(nums)-1):\n",
    "        if nums[i] in d:\n",
    "            d[nums[i]]+=1\n",
    "        else:\n",
    "            d[nums[i]]=1\n",
    "    return d"
   ]
  },
  {
   "cell_type": "code",
   "execution_count": 64,
   "id": "012a4c69",
   "metadata": {},
   "outputs": [
    {
     "data": {
      "text/plain": [
       "{1: 4, 2: 3, 3: 3, 4: 4, 5: 1, 6: 1, 7: 1, 8: 2}"
      ]
     },
     "execution_count": 64,
     "metadata": {},
     "output_type": "execute_result"
    }
   ],
   "source": [
    "occurance([1,1,1,1,2,2,2,3,3,3,4,4,4,4,5,6,7,8,8,8])"
   ]
  },
  {
   "cell_type": "markdown",
   "id": "35823dc9",
   "metadata": {},
   "source": [
    "5. Write a Python program to find the second largest number in a list.\n"
   ]
  },
  {
   "cell_type": "code",
   "execution_count": 70,
   "id": "55ce50bc",
   "metadata": {},
   "outputs": [],
   "source": [
    "def second_large(nums):\n",
    "    first_max = float('-inf')\n",
    "    second_max = float('-inf')\n",
    "    for i in range(len(nums)-1):\n",
    "        if nums[i]>first_max:\n",
    "            first_max = nums[i]\n",
    "            second_max = first_max\n",
    "        elif nums[i] > second_max and nums[i] < first_max:\n",
    "            second_max = nums[i]\n",
    "    return second_max\n",
    "        "
   ]
  },
  {
   "cell_type": "code",
   "execution_count": 71,
   "id": "6da8ad85",
   "metadata": {},
   "outputs": [
    {
     "data": {
      "text/plain": [
       "67"
      ]
     },
     "execution_count": 71,
     "metadata": {},
     "output_type": "execute_result"
    }
   ],
   "source": [
    "second_large([12,10,23,45,56,67,76])"
   ]
  },
  {
   "cell_type": "markdown",
   "id": "06e0a1b9",
   "metadata": {},
   "source": [
    "6. Implement a function to remove duplicate elements from a list."
   ]
  },
  {
   "cell_type": "code",
   "execution_count": 73,
   "id": "da3e23ad",
   "metadata": {},
   "outputs": [],
   "source": [
    "def remove_duplicate(nums):\n",
    "    nums1=[]\n",
    "    for i in nums:\n",
    "        if i not in nums1:\n",
    "            nums1.append(i)\n",
    "    return nums1"
   ]
  },
  {
   "cell_type": "code",
   "execution_count": 74,
   "id": "2e0fd917",
   "metadata": {},
   "outputs": [
    {
     "data": {
      "text/plain": [
       "[12, 34, 45]"
      ]
     },
     "execution_count": 74,
     "metadata": {},
     "output_type": "execute_result"
    }
   ],
   "source": [
    "remove_duplicate([12,34,45,12,34,45])"
   ]
  },
  {
   "cell_type": "markdown",
   "id": "5f1e8cd4",
   "metadata": {},
   "source": [
    "7. Write a program to calculate the factorial of a given number.\n"
   ]
  },
  {
   "cell_type": "code",
   "execution_count": 1,
   "id": "ba74a73d",
   "metadata": {},
   "outputs": [],
   "source": [
    "def factorial(n):\n",
    "    if n==1:\n",
    "        return n\n",
    "    else:\n",
    "        fact =n*factorial(n-1)\n",
    "    return fact"
   ]
  },
  {
   "cell_type": "code",
   "execution_count": 2,
   "id": "78828814",
   "metadata": {},
   "outputs": [
    {
     "data": {
      "text/plain": [
       "24"
      ]
     },
     "execution_count": 2,
     "metadata": {},
     "output_type": "execute_result"
    }
   ],
   "source": [
    "factorial(4)"
   ]
  },
  {
   "cell_type": "markdown",
   "id": "421eb066",
   "metadata": {},
   "source": [
    "8. Implement a function to check if a given number is prime.\n"
   ]
  },
  {
   "cell_type": "code",
   "execution_count": 22,
   "id": "8fb595c3",
   "metadata": {},
   "outputs": [],
   "source": [
    "def prime(n):\n",
    "    if n==1:\n",
    "        return \"NEIther prime or even\"\n",
    "    for i in range(2,n):\n",
    "        if n%i==0:\n",
    "            return \"NOT PRIME\"\n",
    "        \n",
    "    return \"Prime\""
   ]
  },
  {
   "cell_type": "code",
   "execution_count": 23,
   "id": "5b5e8667",
   "metadata": {},
   "outputs": [
    {
     "data": {
      "text/plain": [
       "'NOT PRIME'"
      ]
     },
     "execution_count": 23,
     "metadata": {},
     "output_type": "execute_result"
    }
   ],
   "source": [
    "prime(9)"
   ]
  },
  {
   "cell_type": "markdown",
   "id": "f59ced2c",
   "metadata": {},
   "source": [
    "9. Write a Python program to sort a list of integers in ascending order."
   ]
  },
  {
   "cell_type": "code",
   "execution_count": 35,
   "id": "314f4814",
   "metadata": {},
   "outputs": [],
   "source": [
    "def sorting(nums):\n",
    "    n=len(nums)\n",
    "    for i in range(n-1):\n",
    "        for j in range(i+1,n):\n",
    "            if nums[j]<nums[i]:\n",
    "                nums[j],nums[i]=nums[i],nums[j]\n",
    "    return nums\n",
    "                "
   ]
  },
  {
   "cell_type": "code",
   "execution_count": 36,
   "id": "b83e8d03",
   "metadata": {},
   "outputs": [
    {
     "data": {
      "text/plain": [
       "[0, 0, 1, 23, 34, 45, 89]"
      ]
     },
     "execution_count": 36,
     "metadata": {},
     "output_type": "execute_result"
    }
   ],
   "source": [
    "sorting([23,1,34,0,45,89,0])"
   ]
  },
  {
   "cell_type": "markdown",
   "id": "87132c3c",
   "metadata": {},
   "source": [
    "10. Implement a function to find the sum of all numbers in a list.\n"
   ]
  },
  {
   "cell_type": "code",
   "execution_count": 40,
   "id": "779d5b03",
   "metadata": {},
   "outputs": [],
   "source": [
    "def suming(nums):\n",
    "    sums=0\n",
    "    for i in nums:\n",
    "        sums+=i\n",
    "    return sums"
   ]
  },
  {
   "cell_type": "code",
   "execution_count": 41,
   "id": "f10e7b3c",
   "metadata": {},
   "outputs": [
    {
     "data": {
      "text/plain": [
       "102"
      ]
     },
     "execution_count": 41,
     "metadata": {},
     "output_type": "execute_result"
    }
   ],
   "source": [
    "suming([23,34,45])"
   ]
  },
  {
   "cell_type": "markdown",
   "id": "96a62784",
   "metadata": {},
   "source": [
    "11. Write a program to find the common elements between two lists.\n"
   ]
  },
  {
   "cell_type": "code",
   "execution_count": 54,
   "id": "42726ec6",
   "metadata": {},
   "outputs": [],
   "source": [
    "def common(nums1,nums2):\n",
    "    n1=len(nums1)\n",
    "    n2=len(nums2)\n",
    "    min_len=min(n1,n2)\n",
    "    common_list=[]\n",
    "    for i in range(min_len-1):\n",
    "        if nums1[i] in nums2:\n",
    "            common_list.append(nums1[i])\n",
    "        if nums2[i] in nums1:\n",
    "            if nums2[i] not in common_list:\n",
    "                common_list.append(nums2[i])\n",
    "    return common_list"
   ]
  },
  {
   "cell_type": "code",
   "execution_count": 72,
   "id": "683798f9",
   "metadata": {},
   "outputs": [
    {
     "data": {
      "text/plain": [
       "[12, 45]"
      ]
     },
     "execution_count": 72,
     "metadata": {},
     "output_type": "execute_result"
    }
   ],
   "source": [
    "common([12,1,34,45],[23,12,12,45,0,67])"
   ]
  },
  {
   "cell_type": "code",
   "execution_count": 73,
   "id": "99ef3537",
   "metadata": {},
   "outputs": [],
   "source": [
    "#optimized solution"
   ]
  },
  {
   "cell_type": "code",
   "execution_count": 190,
   "id": "91d73236",
   "metadata": {},
   "outputs": [],
   "source": [
    "def common(nums1, nums2):\n",
    "    common_list = []\n",
    "    for num in nums1:\n",
    "        if num in nums2 and num not in common_list:\n",
    "            common_list.append(num)\n",
    "    return common_list\n"
   ]
  },
  {
   "cell_type": "code",
   "execution_count": 191,
   "id": "f508277d",
   "metadata": {},
   "outputs": [
    {
     "data": {
      "text/plain": [
       "[12, 45]"
      ]
     },
     "execution_count": 191,
     "metadata": {},
     "output_type": "execute_result"
    }
   ],
   "source": [
    "common([12,1,34,45],[23,23,12,45,0,67])"
   ]
  },
  {
   "cell_type": "code",
   "execution_count": null,
   "id": "4e9cfced",
   "metadata": {},
   "outputs": [],
   "source": []
  },
  {
   "cell_type": "markdown",
   "id": "f0da0675",
   "metadata": {},
   "source": [
    "12. Implement a function to check if a given string is an anagram of another string.\n"
   ]
  },
  {
   "cell_type": "code",
   "execution_count": 109,
   "id": "a19c0f98",
   "metadata": {},
   "outputs": [],
   "source": [
    "def anagram(str1,str2):\n",
    "    if len(str1)!=len(str2):\n",
    "        return \"not anagram\"\n",
    "    \n",
    "    for i in range(len(str1)):\n",
    "        if str1[i].lower() not in str2 or str2[i].lower() not in str1:\n",
    "            return \"not anagram\"\n",
    "        \n",
    "    return \"anagram\""
   ]
  },
  {
   "cell_type": "code",
   "execution_count": 110,
   "id": "9b400b06",
   "metadata": {},
   "outputs": [
    {
     "data": {
      "text/plain": [
       "'not anagram'"
      ]
     },
     "execution_count": 110,
     "metadata": {},
     "output_type": "execute_result"
    }
   ],
   "source": [
    "anagram(\"listen\",\"silenp\")"
   ]
  },
  {
   "cell_type": "code",
   "execution_count": 92,
   "id": "d3ea5b12",
   "metadata": {},
   "outputs": [],
   "source": [
    "def anagram(str1, str2):\n",
    "    if len(str1) != len(str2):\n",
    "        return \"Not anagram\"\n",
    "    \n",
    "    sorted_str1 = sorted(str1)\n",
    "    sorted_str2 = sorted(str2)\n",
    "    \n",
    "    if sorted_str1 == sorted_str2:\n",
    "        return \"Anagram\"\n",
    "    else:\n",
    "        return \"Not anagram\"\n"
   ]
  },
  {
   "cell_type": "code",
   "execution_count": 93,
   "id": "df50ff93",
   "metadata": {},
   "outputs": [
    {
     "data": {
      "text/plain": [
       "'Not anagram'"
      ]
     },
     "execution_count": 93,
     "metadata": {},
     "output_type": "execute_result"
    }
   ],
   "source": [
    "anagram(\"silent\",\"listet\")"
   ]
  },
  {
   "cell_type": "markdown",
   "id": "56a7d96f",
   "metadata": {},
   "source": [
    "13. Write a Python program to generate all permutations of a given string.\n"
   ]
  },
  {
   "cell_type": "code",
   "execution_count": 149,
   "id": "1e747b48",
   "metadata": {},
   "outputs": [],
   "source": [
    "def permutation(str1):\n",
    "    if len(str1)==0:\n",
    "        return \n",
    "    if len(str1)==1:\n",
    "        return str1\n",
    "    l1=[]\n",
    "    #word=''\n",
    "    for i in range(len(str1)):\n",
    "        \n",
    "        curr_char=str1[i]\n",
    "        rest_char = str1[:i]+str1[i+1:]\n",
    "#         word = curr_char+rest_char\n",
    "#         #l1.append(word)\n",
    "        for j in permutation(rest_char):\n",
    "            l1.append(curr_char+rest_char)\n",
    "            \n",
    "    return l1\n",
    "        "
   ]
  },
  {
   "cell_type": "code",
   "execution_count": 150,
   "id": "d959c4bd",
   "metadata": {},
   "outputs": [
    {
     "data": {
      "text/plain": [
       "['abc', 'abc', 'bac', 'bac', 'cab', 'cab']"
      ]
     },
     "execution_count": 150,
     "metadata": {},
     "output_type": "execute_result"
    }
   ],
   "source": [
    "permutation('abc')"
   ]
  },
  {
   "cell_type": "markdown",
   "id": "0713fce6",
   "metadata": {},
   "source": [
    "14. Implement a function to calculate the Fibonacci sequence up to a given number of terms.\n"
   ]
  },
  {
   "cell_type": "code",
   "execution_count": 167,
   "id": "d401c455",
   "metadata": {},
   "outputs": [],
   "source": [
    "def fibo_series(n):\n",
    "    \n",
    "    a=0\n",
    "    b=1\n",
    "    l=[]\n",
    "    for i in range(n):\n",
    "        a,b=b,a+b\n",
    "        l.append(a)\n",
    "        #print(a)\n",
    "    \n",
    "    return l"
   ]
  },
  {
   "cell_type": "code",
   "execution_count": 168,
   "id": "ae8bc793",
   "metadata": {},
   "outputs": [
    {
     "data": {
      "text/plain": [
       "[1, 1, 2, 3, 5]"
      ]
     },
     "execution_count": 168,
     "metadata": {},
     "output_type": "execute_result"
    }
   ],
   "source": [
    "fibo_series(5)"
   ]
  },
  {
   "cell_type": "markdown",
   "id": "28e4865e",
   "metadata": {},
   "source": [
    "15. Write a program to find the median of a list of numbers.\n"
   ]
  },
  {
   "cell_type": "code",
   "execution_count": 183,
   "id": "63082785",
   "metadata": {},
   "outputs": [],
   "source": [
    "def median(nums):\n",
    "    nums=sorted(nums)\n",
    "    if len(nums)%2==0:\n",
    "        mid = (nums[len(nums)//2]+nums[len(nums)//2-1])/2\n",
    "        return mid\n",
    "    else:\n",
    "        return nums[len(nums)//2]"
   ]
  },
  {
   "cell_type": "code",
   "execution_count": 184,
   "id": "fc0da25f",
   "metadata": {},
   "outputs": [
    {
     "data": {
      "text/plain": [
       "39.5"
      ]
     },
     "execution_count": 184,
     "metadata": {},
     "output_type": "execute_result"
    }
   ],
   "source": [
    "median([23,12,34,45,56,87])"
   ]
  },
  {
   "cell_type": "markdown",
   "id": "9ba02b8e",
   "metadata": {},
   "source": [
    "16. Implement a function to check if a given list is sorted in non-decreasing order.\n"
   ]
  },
  {
   "cell_type": "code",
   "execution_count": 185,
   "id": "383185e8",
   "metadata": {},
   "outputs": [],
   "source": [
    "def is_sorted(nums):\n",
    "    n = len(nums)\n",
    "    for i in range(n-1):\n",
    "        if nums[i] > nums[i+1]:\n",
    "            return False\n",
    "    return True\n"
   ]
  },
  {
   "cell_type": "code",
   "execution_count": 186,
   "id": "91cbf0d7",
   "metadata": {},
   "outputs": [
    {
     "data": {
      "text/plain": [
       "False"
      ]
     },
     "execution_count": 186,
     "metadata": {},
     "output_type": "execute_result"
    }
   ],
   "source": [
    "is_sorted([34,23,12,10])"
   ]
  },
  {
   "cell_type": "code",
   "execution_count": 187,
   "id": "8d76591e",
   "metadata": {},
   "outputs": [
    {
     "data": {
      "text/plain": [
       "True"
      ]
     },
     "execution_count": 187,
     "metadata": {},
     "output_type": "execute_result"
    }
   ],
   "source": [
    "is_sorted([12,13,34,45])"
   ]
  },
  {
   "cell_type": "markdown",
   "id": "14304f0a",
   "metadata": {},
   "source": [
    "17. Write a Python program to find the intersection of two lists.\n"
   ]
  },
  {
   "cell_type": "code",
   "execution_count": 188,
   "id": "ae81469f",
   "metadata": {},
   "outputs": [],
   "source": [
    "def common(nums1, nums2):\n",
    "    common_list = []\n",
    "    for num in nums1:\n",
    "        if num in nums2 and num not in common_list:\n",
    "            common_list.append(num)\n",
    "    return common_list"
   ]
  },
  {
   "cell_type": "code",
   "execution_count": 192,
   "id": "b38020d6",
   "metadata": {},
   "outputs": [
    {
     "data": {
      "text/plain": [
       "[4, 5]"
      ]
     },
     "execution_count": 192,
     "metadata": {},
     "output_type": "execute_result"
    }
   ],
   "source": [
    "list1 = [1, 2, 3, 4, 5]\n",
    "list2 = [4, 5, 6, 7, 8]\n",
    "common(list1, list2)"
   ]
  },
  {
   "cell_type": "markdown",
   "id": "2a3753b0",
   "metadata": {},
   "source": [
    "18. Implement a function to find the maximum subarray sum in a given list."
   ]
  },
  {
   "cell_type": "code",
   "execution_count": 195,
   "id": "fc0b6ada",
   "metadata": {},
   "outputs": [],
   "source": [
    "def max_subarray_sum(nums):\n",
    "    max_sum = float('-inf')\n",
    "    current_sum = 0\n",
    "    start = 0\n",
    "    end = 0\n",
    "    temp_start = 0\n",
    "    temp_end = 0\n",
    "\n",
    "    for i, num in enumerate(nums):\n",
    "        if current_sum + num < num:\n",
    "            current_sum = num\n",
    "            temp_start = i\n",
    "            temp_end = i\n",
    "        else:\n",
    "            current_sum += num\n",
    "            temp_end = i\n",
    "\n",
    "        if current_sum > max_sum:\n",
    "            max_sum = current_sum\n",
    "            start = temp_start\n",
    "            end = temp_end\n",
    "\n",
    "    subarray = nums[start : end + 1]\n",
    "    return max_sum, subarray\n"
   ]
  },
  {
   "cell_type": "code",
   "execution_count": 197,
   "id": "978db827",
   "metadata": {},
   "outputs": [
    {
     "data": {
      "text/plain": [
       "(6, [2, 1, -1, 4])"
      ]
     },
     "execution_count": 197,
     "metadata": {},
     "output_type": "execute_result"
    }
   ],
   "source": [
    "max_subarray_sum([1, -3, 2, 1, -1, 4, -2])"
   ]
  },
  {
   "cell_type": "markdown",
   "id": "2c5c9216",
   "metadata": {},
   "source": [
    "19. Write a program to remove all vowels from a given string.\n"
   ]
  },
  {
   "cell_type": "code",
   "execution_count": 200,
   "id": "1592a004",
   "metadata": {},
   "outputs": [],
   "source": [
    "def remove(str1):\n",
    "    l1=[]\n",
    "    for i in str1:\n",
    "        i=i.lower()\n",
    "        if i in \"aeiou\":\n",
    "            continue\n",
    "        else:\n",
    "            l1.append(i)\n",
    "    return \"\".join(l1)"
   ]
  },
  {
   "cell_type": "code",
   "execution_count": 201,
   "id": "a8bf1dd8",
   "metadata": {},
   "outputs": [
    {
     "data": {
      "text/plain": [
       "'sbl'"
      ]
     },
     "execution_count": 201,
     "metadata": {},
     "output_type": "execute_result"
    }
   ],
   "source": [
    "remove(\"saibal\")"
   ]
  },
  {
   "cell_type": "markdown",
   "id": "700350ff",
   "metadata": {},
   "source": [
    "20. Implement a function to reverse the order of words in a given sentence."
   ]
  },
  {
   "cell_type": "code",
   "execution_count": 202,
   "id": "fe50d9d4",
   "metadata": {},
   "outputs": [],
   "source": [
    "def reverse_sentence(sentence):\n",
    "    words = sentence.split()\n",
    "    reversed_words = words[::-1]\n",
    "    reversed_sentence = ' '.join(reversed_words)\n",
    "    return reversed_sentence\n"
   ]
  },
  {
   "cell_type": "code",
   "execution_count": 204,
   "id": "f42bec69",
   "metadata": {},
   "outputs": [
    {
     "data": {
      "text/plain": [
       "'scientist data a is saibal'"
      ]
     },
     "execution_count": 204,
     "metadata": {},
     "output_type": "execute_result"
    }
   ],
   "source": [
    "reverse_sentence(\"saibal is a data scientist\")"
   ]
  },
  {
   "cell_type": "markdown",
   "id": "189afc11",
   "metadata": {},
   "source": [
    "21. Write a Python program to check if two strings are anagrams of each other.\n"
   ]
  },
  {
   "cell_type": "code",
   "execution_count": 205,
   "id": "20f550ab",
   "metadata": {},
   "outputs": [],
   "source": [
    "def check_anagrams(str1, str2):\n",
    "    return sorted(str1.lower()) == sorted(str2.lower())\n"
   ]
  },
  {
   "cell_type": "code",
   "execution_count": 206,
   "id": "e0184258",
   "metadata": {},
   "outputs": [
    {
     "data": {
      "text/plain": [
       "True"
      ]
     },
     "execution_count": 206,
     "metadata": {},
     "output_type": "execute_result"
    }
   ],
   "source": [
    "check_anagrams(\"silent\",\"listen\")"
   ]
  },
  {
   "cell_type": "markdown",
   "id": "28ce0863",
   "metadata": {},
   "source": [
    "22. Implement a function to find the first non-repeating character in a string.\n"
   ]
  },
  {
   "cell_type": "code",
   "execution_count": 213,
   "id": "4c20d2ca",
   "metadata": {},
   "outputs": [],
   "source": [
    "def non_repeat(str1):\n",
    "    for i in range(len(str1)):\n",
    "        if str1[i] not in str1[i+1:]:\n",
    "            return str1[i]"
   ]
  },
  {
   "cell_type": "code",
   "execution_count": 214,
   "id": "7233f38d",
   "metadata": {},
   "outputs": [
    {
     "data": {
      "text/plain": [
       "'c'"
      ]
     },
     "execution_count": 214,
     "metadata": {},
     "output_type": "execute_result"
    }
   ],
   "source": [
    "non_repeat(\"anaconda\")"
   ]
  },
  {
   "cell_type": "code",
   "execution_count": 215,
   "id": "0d67015e",
   "metadata": {},
   "outputs": [],
   "source": [
    "def non_repeat(str1):\n",
    "    char_count = {}\n",
    "\n",
    "    # Count occurrences of each character\n",
    "    for char in str1:\n",
    "        char_count[char] = char_count.get(char, 0) + 1\n",
    "    return char_count\n",
    "\n",
    "    # Find the first non-repeating character\n",
    "#     for char in str1:\n",
    "#         if char_count[char] == 1:\n",
    "#             return char\n",
    "\n",
    "#     # Return None if no non-repeating character found\n",
    "#     return None\n"
   ]
  },
  {
   "cell_type": "code",
   "execution_count": 216,
   "id": "d5167e27",
   "metadata": {},
   "outputs": [
    {
     "data": {
      "text/plain": [
       "{'a': 3, 'n': 2, 'c': 1, 'o': 1, 'd': 1}"
      ]
     },
     "execution_count": 216,
     "metadata": {},
     "output_type": "execute_result"
    }
   ],
   "source": [
    "non_repeat(\"anaconda\")"
   ]
  },
  {
   "cell_type": "markdown",
   "id": "f5f4e982",
   "metadata": {},
   "source": [
    "23. Write a program to find the prime factors of a given number.\n"
   ]
  },
  {
   "cell_type": "code",
   "execution_count": 221,
   "id": "ea8c3400",
   "metadata": {},
   "outputs": [],
   "source": [
    "def prime_factors(n):\n",
    "    factors = []\n",
    "    \n",
    "    # Check for factors of 2\n",
    "    while n % 2 == 0:\n",
    "        factors.append(2)\n",
    "        n //= 2\n",
    "    \n",
    "    # Check for factors of odd numbers starting from 3\n",
    "    for i in range(3, round(n**.5)+1, 2):\n",
    "        while n % i == 0:\n",
    "            factors.append(i)\n",
    "            n //= i\n",
    "    \n",
    "    # If n is a prime number greater than 2\n",
    "    if n > 2:\n",
    "        factors.append(n)\n",
    "    \n",
    "    return factors\n"
   ]
  },
  {
   "cell_type": "code",
   "execution_count": 222,
   "id": "267aaa16",
   "metadata": {},
   "outputs": [
    {
     "data": {
      "text/plain": [
       "[2, 2, 3]"
      ]
     },
     "execution_count": 222,
     "metadata": {},
     "output_type": "execute_result"
    }
   ],
   "source": [
    "prime_factors(12)"
   ]
  },
  {
   "cell_type": "markdown",
   "id": "79953783",
   "metadata": {},
   "source": [
    "24. Implement a function to check if a given number is a power of two.\n"
   ]
  },
  {
   "cell_type": "code",
   "execution_count": 251,
   "id": "d1cf6164",
   "metadata": {},
   "outputs": [],
   "source": [
    "def powertwo(n):\n",
    "    if n==0:\n",
    "        return False\n",
    "    \n",
    "    while n%2==0:\n",
    "        n//=2\n",
    "    if n==1:\n",
    "        return True\n",
    "    \n",
    "    else:\n",
    "        return False"
   ]
  },
  {
   "cell_type": "code",
   "execution_count": 252,
   "id": "26610087",
   "metadata": {},
   "outputs": [
    {
     "data": {
      "text/plain": [
       "False"
      ]
     },
     "execution_count": 252,
     "metadata": {},
     "output_type": "execute_result"
    }
   ],
   "source": [
    "powertwo(31)"
   ]
  },
  {
   "cell_type": "code",
   "execution_count": 253,
   "id": "0d218e3b",
   "metadata": {},
   "outputs": [
    {
     "data": {
      "text/plain": [
       "True"
      ]
     },
     "execution_count": 253,
     "metadata": {},
     "output_type": "execute_result"
    }
   ],
   "source": [
    "powertwo(32)"
   ]
  },
  {
   "cell_type": "markdown",
   "id": "1d889059",
   "metadata": {},
   "source": [
    "25. Write a Python program to merge two sorted lists into a single sorted list."
   ]
  },
  {
   "cell_type": "code",
   "execution_count": 277,
   "id": "3e6b712b",
   "metadata": {},
   "outputs": [],
   "source": [
    "def merge_two_sorted_lists(a,b):\n",
    "    len_a = len(a)\n",
    "    len_b = len(b)\n",
    "    arr = []\n",
    "    i = j =  0\n",
    "\n",
    "    while i < len_a and j < len_b:\n",
    "        if a[i] <= b[j]:\n",
    "            arr.append(a[i])\n",
    "            i+=1\n",
    "        else:\n",
    "            arr.append(b[j])\n",
    "            j+=1\n",
    "       \n",
    "\n",
    "    while i < len_a:\n",
    "        arr.append(a[i])\n",
    "        i+=1\n",
    "       \n",
    "\n",
    "    while j < len_b:\n",
    "        arr.append(b[j])\n",
    "        j+=1\n",
    "       \n",
    "    return arr"
   ]
  },
  {
   "cell_type": "code",
   "execution_count": 279,
   "id": "d1acbbc3",
   "metadata": {},
   "outputs": [
    {
     "data": {
      "text/plain": [
       "[1, 2, 2, 3, 4, 4, 6, 7, 8, 9]"
      ]
     },
     "execution_count": 279,
     "metadata": {},
     "output_type": "execute_result"
    }
   ],
   "source": [
    "merge_two_sorted_lists([1,2,3,4],[2,4,6,7,8,9])"
   ]
  },
  {
   "cell_type": "markdown",
   "id": "87f1fe8e",
   "metadata": {},
   "source": [
    "26. Implement a function to find the mode of a list of numbers.\n"
   ]
  },
  {
   "cell_type": "code",
   "execution_count": 295,
   "id": "b1b5088f",
   "metadata": {},
   "outputs": [],
   "source": [
    "def mode(l1):\n",
    "    d={}\n",
    "    for i in l1:\n",
    "        d[i] = d.get(i,0)+1\n",
    "    max_freq = max(d.values())\n",
    "    keys_with_max_freq = [key for key, value in d.items() if value == max_freq]\n",
    "       \n",
    "    return keys_with_max_freq[0]"
   ]
  },
  {
   "cell_type": "code",
   "execution_count": 298,
   "id": "1f4aeff4",
   "metadata": {},
   "outputs": [
    {
     "data": {
      "text/plain": [
       "1"
      ]
     },
     "execution_count": 298,
     "metadata": {},
     "output_type": "execute_result"
    }
   ],
   "source": [
    "mode([1,1,1,1,1,2,2,2,3,33,3,4,4,4])"
   ]
  },
  {
   "cell_type": "code",
   "execution_count": 299,
   "id": "1729abbf",
   "metadata": {},
   "outputs": [],
   "source": [
    "from scipy import stats\n",
    "\n",
    "def mode(l1):\n",
    "    mode_result = stats.mode(l1)\n",
    "    return mode_result.mode[0]\n"
   ]
  },
  {
   "cell_type": "code",
   "execution_count": 300,
   "id": "ce0768a4",
   "metadata": {},
   "outputs": [
    {
     "name": "stderr",
     "output_type": "stream",
     "text": [
      "C:\\Users\\mrcha\\AppData\\Local\\Temp\\ipykernel_23300\\2675219897.py:4: FutureWarning: Unlike other reduction functions (e.g. `skew`, `kurtosis`), the default behavior of `mode` typically preserves the axis it acts along. In SciPy 1.11.0, this behavior will change: the default value of `keepdims` will become False, the `axis` over which the statistic is taken will be eliminated, and the value None will no longer be accepted. Set `keepdims` to True or False to avoid this warning.\n",
      "  mode_result = stats.mode(l1)\n"
     ]
    },
    {
     "data": {
      "text/plain": [
       "1"
      ]
     },
     "execution_count": 300,
     "metadata": {},
     "output_type": "execute_result"
    }
   ],
   "source": [
    "mode([1,1,1,1,1,2,2,2,3,33,3,4,4,4])"
   ]
  },
  {
   "cell_type": "markdown",
   "id": "da9efb64",
   "metadata": {},
   "source": [
    "27. Write a program to find the greatest common divisor (GCD) of two numbers.\n"
   ]
  },
  {
   "cell_type": "code",
   "execution_count": 308,
   "id": "0fd24711",
   "metadata": {},
   "outputs": [],
   "source": [
    "def gcd(a,b):\n",
    "    if a<b:\n",
    "        a,b=b,a\n",
    "    if b==1:\n",
    "        return b\n",
    "    while b != 0:\n",
    "        a, b = b, a % b\n",
    "    return a"
   ]
  },
  {
   "cell_type": "code",
   "execution_count": 309,
   "id": "5411b8f5",
   "metadata": {},
   "outputs": [
    {
     "data": {
      "text/plain": [
       "3"
      ]
     },
     "execution_count": 309,
     "metadata": {},
     "output_type": "execute_result"
    }
   ],
   "source": [
    "gcd(6,3)"
   ]
  },
  {
   "cell_type": "markdown",
   "id": "815eab4b",
   "metadata": {},
   "source": [
    "28. Implement a function to calculate the square root of a given number.\n"
   ]
  },
  {
   "cell_type": "code",
   "execution_count": 311,
   "id": "98ac6262",
   "metadata": {},
   "outputs": [],
   "source": [
    "def square_root(n):\n",
    "    return n**.5"
   ]
  },
  {
   "cell_type": "code",
   "execution_count": 313,
   "id": "990dad2c",
   "metadata": {},
   "outputs": [
    {
     "data": {
      "text/plain": [
       "4.898979485566356"
      ]
     },
     "execution_count": 313,
     "metadata": {},
     "output_type": "execute_result"
    }
   ],
   "source": [
    "square_root(24)"
   ]
  },
  {
   "cell_type": "markdown",
   "id": "9cb9a381",
   "metadata": {},
   "source": [
    "29. Write a Python program to check if a given string is a valid palindrome ignoring non-alphanumeric characters.\n"
   ]
  },
  {
   "cell_type": "code",
   "execution_count": 328,
   "id": "73152d8d",
   "metadata": {},
   "outputs": [],
   "source": [
    "def is_valid_palindrome(string):\n",
    "    alphanumeric_string = ''.join(char.lower() for char in string if char.isalpha())\n",
    "    return alphanumeric_string == alphanumeric_string[::-1]\n"
   ]
  },
  {
   "cell_type": "code",
   "execution_count": 330,
   "id": "85c77daa",
   "metadata": {},
   "outputs": [
    {
     "data": {
      "text/plain": [
       "True"
      ]
     },
     "execution_count": 330,
     "metadata": {},
     "output_type": "execute_result"
    }
   ],
   "source": [
    "is_valid_palindrome(\"ma$44%^&*dam\")"
   ]
  },
  {
   "cell_type": "markdown",
   "id": "598e8aef",
   "metadata": {},
   "source": [
    "30.Implement a function to find the minimum element in a rotated sorted list.\n"
   ]
  },
  {
   "cell_type": "code",
   "execution_count": 1,
   "id": "f1a17dc4",
   "metadata": {},
   "outputs": [
    {
     "data": {
      "text/plain": [
       "0"
      ]
     },
     "execution_count": 1,
     "metadata": {},
     "output_type": "execute_result"
    }
   ],
   "source": [
    "s=[4,5,6,7,0,1,2]\n",
    "min(s)"
   ]
  },
  {
   "cell_type": "code",
   "execution_count": 8,
   "id": "05841db4",
   "metadata": {},
   "outputs": [],
   "source": [
    "def minelement(l1):\n",
    "    min_element=float('inf')\n",
    "    for i in range(len(l1)):\n",
    "        if l1[i]<min_element:\n",
    "            min_element=l1[i]\n",
    "    return min_element"
   ]
  },
  {
   "cell_type": "code",
   "execution_count": 9,
   "id": "95516b16",
   "metadata": {},
   "outputs": [
    {
     "name": "stdout",
     "output_type": "stream",
     "text": [
      "0\n"
     ]
    }
   ],
   "source": [
    "print(minelement([4,5,6,7,0,1,2]))"
   ]
  },
  {
   "cell_type": "code",
   "execution_count": 10,
   "id": "ba68644f",
   "metadata": {},
   "outputs": [
    {
     "name": "stdout",
     "output_type": "stream",
     "text": [
      "Minimum element: 0\n"
     ]
    }
   ],
   "source": [
    "def find_min_element(nums):\n",
    "    left = 0\n",
    "    right = len(nums) - 1\n",
    "\n",
    "    while left < right:\n",
    "        mid = left + (right - left) // 2\n",
    "\n",
    "        if nums[mid] > nums[right]:\n",
    "            left = mid + 1\n",
    "        else:\n",
    "            right = mid\n",
    "\n",
    "    return nums[left]\n",
    "\n",
    "# Example usage:\n",
    "nums = [4, 5, 6, 7, 0, 1, 2]\n",
    "min_element = find_min_element(nums)\n",
    "print(\"Minimum element:\", min_element)\n"
   ]
  },
  {
   "cell_type": "markdown",
   "id": "c03f2e94",
   "metadata": {},
   "source": [
    "31. Write a program to find the sum of all even numbers in a list.\n"
   ]
  },
  {
   "cell_type": "code",
   "execution_count": 15,
   "id": "b8acb5fa",
   "metadata": {},
   "outputs": [],
   "source": [
    "def sumEven(l1):\n",
    "    sum1=0\n",
    "    for i in l1:\n",
    "        if i%2==0:\n",
    "            sum1+=i\n",
    "    return sum1\n"
   ]
  },
  {
   "cell_type": "code",
   "execution_count": 16,
   "id": "f766a4b0",
   "metadata": {},
   "outputs": [
    {
     "data": {
      "text/plain": [
       "24"
      ]
     },
     "execution_count": 16,
     "metadata": {},
     "output_type": "execute_result"
    }
   ],
   "source": [
    "sumEven([1,2,4,7,8,10])"
   ]
  },
  {
   "cell_type": "code",
   "execution_count": 17,
   "id": "a7214d66",
   "metadata": {},
   "outputs": [],
   "source": [
    "#other ways"
   ]
  },
  {
   "cell_type": "code",
   "execution_count": 18,
   "id": "e0643460",
   "metadata": {},
   "outputs": [
    {
     "name": "stdout",
     "output_type": "stream",
     "text": [
      "Sum of even numbers: 30\n"
     ]
    }
   ],
   "source": [
    "nums = [1, 2, 3, 4, 5, 6, 7, 8, 9, 10]\n",
    "\n",
    "even_sum = sum(filter(lambda x: x % 2 == 0, nums))\n",
    "\n",
    "print(\"Sum of even numbers:\", even_sum)\n"
   ]
  },
  {
   "cell_type": "code",
   "execution_count": 19,
   "id": "dc076227",
   "metadata": {},
   "outputs": [
    {
     "name": "stdout",
     "output_type": "stream",
     "text": [
      "Sum of even numbers: 30\n"
     ]
    }
   ],
   "source": [
    "from functools import reduce\n",
    "\n",
    "nums = [1, 2, 3, 4, 5, 6, 7, 8, 9, 10]\n",
    "\n",
    "even_sum = reduce(lambda x, y: x + y if y % 2 == 0 else x, nums, 0)\n",
    "\n",
    "print(\"Sum of even numbers:\", even_sum)\n"
   ]
  },
  {
   "cell_type": "code",
   "execution_count": 20,
   "id": "93b2ab38",
   "metadata": {},
   "outputs": [
    {
     "name": "stdout",
     "output_type": "stream",
     "text": [
      "Sum of even numbers: 30\n"
     ]
    }
   ],
   "source": [
    "from functools import reduce\n",
    "\n",
    "nums = [1, 2, 3, 4, 5, 6, 7, 8, 9, 10]\n",
    "\n",
    "even_sum = reduce(lambda x, y: x + y, map(lambda x: x if x % 2 == 0 else 0, nums), 0)\n",
    "\n",
    "print(\"Sum of even numbers:\", even_sum)\n"
   ]
  },
  {
   "cell_type": "markdown",
   "id": "8011efd3",
   "metadata": {},
   "source": [
    "32. Implement a function to calculate the power of a number using recursion.\n"
   ]
  },
  {
   "cell_type": "code",
   "execution_count": 9,
   "id": "b50571b8",
   "metadata": {},
   "outputs": [],
   "source": [
    "def power(base, exponent):\n",
    "    if exponent == 0:\n",
    "        return 1\n",
    "    elif exponent < 0:\n",
    "        return 1 / power(base, -exponent)\n",
    "    else:\n",
    "        return base * power(base, exponent -1)\n",
    "\n",
    "\n"
   ]
  },
  {
   "cell_type": "code",
   "execution_count": 10,
   "id": "cf42cbf1",
   "metadata": {},
   "outputs": [
    {
     "name": "stdout",
     "output_type": "stream",
     "text": [
      "2 raised to the power of -3 is: 0.125\n"
     ]
    }
   ],
   "source": [
    "# Example usage:\n",
    "base = 2\n",
    "exponent = -3\n",
    "result = power(base, exponent)\n",
    "print(f\"{base} raised to the power of {exponent} is: {result}\")"
   ]
  },
  {
   "cell_type": "markdown",
   "id": "c11aa671",
   "metadata": {},
   "source": [
    "33. Write a Python program to remove duplicates from a list while preserving the order."
   ]
  },
  {
   "cell_type": "code",
   "execution_count": 11,
   "id": "75b708fb",
   "metadata": {},
   "outputs": [],
   "source": [
    "def remove(l1):\n",
    "    l2=[]\n",
    "    for i in l1:\n",
    "        if i not in l2:\n",
    "            l2.append(i)\n",
    "    return l2"
   ]
  },
  {
   "cell_type": "code",
   "execution_count": 13,
   "id": "1949812c",
   "metadata": {},
   "outputs": [
    {
     "data": {
      "text/plain": [
       "[1, 2, 3, 4, 5]"
      ]
     },
     "execution_count": 13,
     "metadata": {},
     "output_type": "execute_result"
    }
   ],
   "source": [
    "remove([1,1,1,2,3,4,5,4,5])"
   ]
  },
  {
   "cell_type": "markdown",
   "id": "2fea6ef3",
   "metadata": {},
   "source": [
    "34. Implement a function to find the longest common prefix among a list of strings."
   ]
  },
  {
   "cell_type": "code",
   "execution_count": 48,
   "id": "61f7c092",
   "metadata": {},
   "outputs": [
    {
     "name": "stdout",
     "output_type": "stream",
     "text": [
      "Longest common prefix: fl\n"
     ]
    }
   ],
   "source": [
    "def longest_common_prefix(strs):\n",
    "    \n",
    "    min_length = min(len(s) for s in strs)\n",
    "    common_prefix = \"\"\n",
    "    \n",
    "    for i in range(min_length):\n",
    "        char = strs[0][i]\n",
    "        \n",
    "        if all(s[i] == char for s in strs):\n",
    "            common_prefix += char\n",
    "        else:\n",
    "            break\n",
    "    \n",
    "    return common_prefix\n",
    "\n",
    "# Example usage:\n",
    "words = [\"flower\", \"flow\", \"flight\"]\n",
    "result = longest_common_prefix(words)\n",
    "print(\"Longest common prefix:\", result)\n"
   ]
  },
  {
   "cell_type": "code",
   "execution_count": 15,
   "id": "76e61f1f",
   "metadata": {},
   "outputs": [],
   "source": [
    "words = [\"flower\", \"flow\", \"flight\"]"
   ]
  },
  {
   "cell_type": "code",
   "execution_count": 46,
   "id": "d63950f7",
   "metadata": {},
   "outputs": [],
   "source": [
    "str1=['flower','flight']\n",
    "min_length = min(len(s) for s in str1)\n",
    "\n",
    "common_prefix=''\n",
    "for i in range(min_length):\n",
    "    char=str1[0][i]\n",
    "    if all(s[i] == char for s in str1):\n",
    "        common_prefix += char"
   ]
  },
  {
   "cell_type": "code",
   "execution_count": 47,
   "id": "c0fa2dfa",
   "metadata": {},
   "outputs": [
    {
     "data": {
      "text/plain": [
       "'fl'"
      ]
     },
     "execution_count": 47,
     "metadata": {},
     "output_type": "execute_result"
    }
   ],
   "source": [
    "common_prefix"
   ]
  },
  {
   "cell_type": "markdown",
   "id": "02050952",
   "metadata": {},
   "source": [
    "35. Write a program to check if a given number is a perfect square.\n"
   ]
  },
  {
   "cell_type": "code",
   "execution_count": 52,
   "id": "80babac5",
   "metadata": {},
   "outputs": [],
   "source": [
    "#with math function"
   ]
  },
  {
   "cell_type": "code",
   "execution_count": 53,
   "id": "babf5cf6",
   "metadata": {},
   "outputs": [
    {
     "name": "stdout",
     "output_type": "stream",
     "text": [
      "Is 16 a perfect square? True\n"
     ]
    }
   ],
   "source": [
    "import math\n",
    "\n",
    "def is_perfect_square(number):\n",
    "    square_root = math.isqrt(number)\n",
    "    return square_root * square_root == number\n",
    "\n",
    "# Example usage:\n",
    "num = 16\n",
    "result = is_perfect_square(num)\n",
    "print(\"Is\", num, \"a perfect square?\", result)\n"
   ]
  },
  {
   "cell_type": "code",
   "execution_count": null,
   "id": "a593e413",
   "metadata": {},
   "outputs": [],
   "source": [
    "# without math function"
   ]
  },
  {
   "cell_type": "code",
   "execution_count": 54,
   "id": "512fcb01",
   "metadata": {},
   "outputs": [
    {
     "name": "stdout",
     "output_type": "stream",
     "text": [
      "Is 16 a perfect square? True\n"
     ]
    }
   ],
   "source": [
    "def is_perfect_square(number):\n",
    "    if number < 0:\n",
    "        return False\n",
    "    \n",
    "    root = 0\n",
    "    while root * root <= number:\n",
    "        if root * root == number:\n",
    "            return True\n",
    "        root += 1\n",
    "    \n",
    "    return False\n",
    "\n",
    "# Example usage:\n",
    "num = 16\n",
    "result = is_perfect_square(num)\n",
    "print(\"Is\", num, \"a perfect square?\", result)\n"
   ]
  },
  {
   "cell_type": "markdown",
   "id": "9e5bb1cc",
   "metadata": {},
   "source": [
    "36. Implement a function to calculate the product of all elements in a list.\n"
   ]
  },
  {
   "cell_type": "code",
   "execution_count": 56,
   "id": "74d5b27a",
   "metadata": {},
   "outputs": [],
   "source": [
    "def product(l1):\n",
    "    prod=1\n",
    "    for i in l1:\n",
    "        prod*=i\n",
    "    return prod"
   ]
  },
  {
   "cell_type": "code",
   "execution_count": 57,
   "id": "ed99e8f0",
   "metadata": {},
   "outputs": [
    {
     "data": {
      "text/plain": [
       "24"
      ]
     },
     "execution_count": 57,
     "metadata": {},
     "output_type": "execute_result"
    }
   ],
   "source": [
    "product([1,2,3,4])"
   ]
  },
  {
   "cell_type": "code",
   "execution_count": 82,
   "id": "081127d9",
   "metadata": {},
   "outputs": [],
   "source": [
    "from functools import reduce\n",
    "def product(l1):\n",
    "    prod = reduce(lambda x, y: x * y, l1)\n",
    "    return prod"
   ]
  },
  {
   "cell_type": "code",
   "execution_count": 83,
   "id": "67a98528",
   "metadata": {},
   "outputs": [
    {
     "data": {
      "text/plain": [
       "24"
      ]
     },
     "execution_count": 83,
     "metadata": {},
     "output_type": "execute_result"
    }
   ],
   "source": [
    "product([1,2,3,4])"
   ]
  },
  {
   "cell_type": "markdown",
   "id": "b26e8079",
   "metadata": {},
   "source": [
    "37. Write a Python program to reverse the order of words in a sentence while preserving the word order.\n"
   ]
  },
  {
   "cell_type": "code",
   "execution_count": 84,
   "id": "07991581",
   "metadata": {},
   "outputs": [],
   "source": [
    "def reverse_words(sentence):\n",
    "    words = sentence.split()\n",
    "    reversed_words = words[::-1]\n",
    "    reversed_sentence = \" \".join(reversed_words)\n",
    "    return reversed_sentence\n",
    "\n",
    "\n"
   ]
  },
  {
   "cell_type": "code",
   "execution_count": 85,
   "id": "06bcb5b0",
   "metadata": {},
   "outputs": [
    {
     "name": "stdout",
     "output_type": "stream",
     "text": [
      "Reversed sentence: scientist data great a is Saibal\n"
     ]
    }
   ],
   "source": [
    "\n",
    "sentence = \"Saibal is a great data scientist\"\n",
    "result = reverse_words(sentence)\n",
    "print(\"Reversed sentence:\", result)"
   ]
  },
  {
   "cell_type": "markdown",
   "id": "513d7e88",
   "metadata": {},
   "source": [
    "38. Implement a function to find the missing number in a given list of consecutive numbers.\n"
   ]
  },
  {
   "cell_type": "code",
   "execution_count": 100,
   "id": "17b3141e",
   "metadata": {},
   "outputs": [],
   "source": [
    "def missing(l1):\n",
    "    mis_num=[]\n",
    "    for i in range(len(l1)-1):\n",
    "        if l1[i+1]-l1[i]>1:\n",
    "            mis_num.append(l1[i+1]-1)\n",
    "    return mis_num"
   ]
  },
  {
   "cell_type": "code",
   "execution_count": 101,
   "id": "405b50e9",
   "metadata": {},
   "outputs": [
    {
     "data": {
      "text/plain": [
       "[3, 5, 7]"
      ]
     },
     "execution_count": 101,
     "metadata": {},
     "output_type": "execute_result"
    }
   ],
   "source": [
    "missing([1,2,4,6,8])"
   ]
  },
  {
   "cell_type": "markdown",
   "id": "115761d0",
   "metadata": {},
   "source": [
    "39. Write a program to find the sum of digits of a given number.\n"
   ]
  },
  {
   "cell_type": "code",
   "execution_count": 102,
   "id": "1276542d",
   "metadata": {},
   "outputs": [],
   "source": [
    "def sumDigits(l1):\n",
    "    sum1=0\n",
    "    for i in l1:\n",
    "        sum1+=i\n",
    "    return sum1"
   ]
  },
  {
   "cell_type": "code",
   "execution_count": 103,
   "id": "f470863f",
   "metadata": {},
   "outputs": [
    {
     "data": {
      "text/plain": [
       "6"
      ]
     },
     "execution_count": 103,
     "metadata": {},
     "output_type": "execute_result"
    }
   ],
   "source": [
    "sumDigits([1,2,3])"
   ]
  },
  {
   "cell_type": "code",
   "execution_count": 108,
   "id": "c2aeeade",
   "metadata": {},
   "outputs": [],
   "source": [
    "l1=[1,2,3]\n",
    "sum1=reduce(lambda x,y:x+y,l1)"
   ]
  },
  {
   "cell_type": "code",
   "execution_count": 109,
   "id": "9713e9fa",
   "metadata": {},
   "outputs": [
    {
     "name": "stdout",
     "output_type": "stream",
     "text": [
      "6\n"
     ]
    }
   ],
   "source": [
    "print(sum1)"
   ]
  },
  {
   "cell_type": "markdown",
   "id": "8424ecdc",
   "metadata": {},
   "source": [
    "40. Implement a function to check if a given string is a valid palindrome considering case sensitivity.\n"
   ]
  },
  {
   "cell_type": "code",
   "execution_count": 120,
   "id": "214e2fb4",
   "metadata": {},
   "outputs": [],
   "source": [
    "def palindrome(s1):\n",
    "    reverse_string=''\n",
    "    for i in s1:\n",
    "        reverse_string+=i.lower()\n",
    "    print(reverse_string)\n",
    "    return s1.lower()==reverse_string"
   ]
  },
  {
   "cell_type": "code",
   "execution_count": 121,
   "id": "bf8f2cf8",
   "metadata": {},
   "outputs": [
    {
     "name": "stdout",
     "output_type": "stream",
     "text": [
      "madam\n"
     ]
    },
    {
     "data": {
      "text/plain": [
       "True"
      ]
     },
     "execution_count": 121,
     "metadata": {},
     "output_type": "execute_result"
    }
   ],
   "source": [
    "palindrome(\"Madam\")"
   ]
  },
  {
   "cell_type": "markdown",
   "id": "77b15330",
   "metadata": {},
   "source": [
    "41. Write a Python program to find the smallest missing positive integer in a list.\n"
   ]
  },
  {
   "cell_type": "code",
   "execution_count": 122,
   "id": "b295395f",
   "metadata": {},
   "outputs": [],
   "source": [
    "def find_smallest_missing_positive(nums):\n",
    "    num_set = set(nums)\n",
    "    smallest_missing = 1\n",
    "    while smallest_missing in num_set:\n",
    "        smallest_missing += 1\n",
    "\n",
    "    return smallest_missing\n",
    "\n",
    "\n"
   ]
  },
  {
   "cell_type": "code",
   "execution_count": 123,
   "id": "21752c1e",
   "metadata": {},
   "outputs": [
    {
     "name": "stdout",
     "output_type": "stream",
     "text": [
      "Smallest missing positive integer: 2\n"
     ]
    }
   ],
   "source": [
    "\n",
    "numbers = [3, 1, -1, 5, 4]\n",
    "result = find_smallest_missing_positive(numbers)\n",
    "print(\"Smallest missing positive integer:\", result)"
   ]
  },
  {
   "cell_type": "markdown",
   "id": "69cec76b",
   "metadata": {},
   "source": [
    "42. Implement a function to find the longest palindrome substring in a given string.\n"
   ]
  },
  {
   "cell_type": "markdown",
   "id": "d059b140",
   "metadata": {},
   "source": [
    "43. Write a program to find the number of occurrences of a given element in a list.\n"
   ]
  },
  {
   "cell_type": "code",
   "execution_count": 131,
   "id": "fd4dc2d0",
   "metadata": {},
   "outputs": [],
   "source": [
    "def occurance(l1):\n",
    "    d={}\n",
    "    for i in l1:\n",
    "        d[i]=d.get(i,0)+1\n",
    "    return d"
   ]
  },
  {
   "cell_type": "code",
   "execution_count": 132,
   "id": "c1f5f8fa",
   "metadata": {},
   "outputs": [
    {
     "data": {
      "text/plain": [
       "{1: 2, 2: 1, 3: 3, 4: 1, 5: 1}"
      ]
     },
     "execution_count": 132,
     "metadata": {},
     "output_type": "execute_result"
    }
   ],
   "source": [
    "occurance([1,1,2,3,4,3,3,5])"
   ]
  },
  {
   "cell_type": "markdown",
   "id": "dda493d6",
   "metadata": {},
   "source": [
    "44. Implement a function to check if a given number is a perfect number."
   ]
  },
  {
   "cell_type": "code",
   "execution_count": 133,
   "id": "be71ab8f",
   "metadata": {},
   "outputs": [
    {
     "name": "stdout",
     "output_type": "stream",
     "text": [
      "Is 28 a perfect number? True\n"
     ]
    }
   ],
   "source": [
    "def is_perfect_number(number):\n",
    "    if number <= 0:\n",
    "        return False\n",
    "\n",
    "    divisor_sum = 0\n",
    "    for i in range(1, number):\n",
    "        if number % i == 0:\n",
    "            divisor_sum += i\n",
    "\n",
    "    return divisor_sum == number\n",
    "\n",
    "# Example usage:\n",
    "num = 28\n",
    "result = is_perfect_number(num)\n",
    "print(\"Is\", num, \"a perfect number?\", result)\n"
   ]
  },
  {
   "cell_type": "markdown",
   "id": "e64ac50a",
   "metadata": {},
   "source": [
    "45. Write a Python program to remove all duplicates from a string.\n"
   ]
  },
  {
   "cell_type": "code",
   "execution_count": 135,
   "id": "8e82c382",
   "metadata": {},
   "outputs": [],
   "source": [
    "def duplicates(s1):\n",
    "    unique=''\n",
    "    for i in s1:\n",
    "        if i not in unique:\n",
    "            unique+=i\n",
    "    return unique"
   ]
  },
  {
   "cell_type": "code",
   "execution_count": 136,
   "id": "821f152a",
   "metadata": {},
   "outputs": [
    {
     "data": {
      "text/plain": [
       "'saibl'"
      ]
     },
     "execution_count": 136,
     "metadata": {},
     "output_type": "execute_result"
    }
   ],
   "source": [
    "duplicates(\"saibal\")"
   ]
  },
  {
   "cell_type": "markdown",
   "id": "7334e5ea",
   "metadata": {},
   "source": [
    "46. Implement a function to find the first missing positive\n"
   ]
  },
  {
   "cell_type": "code",
   "execution_count": 138,
   "id": "4d7c3e7e",
   "metadata": {},
   "outputs": [
    {
     "name": "stdout",
     "output_type": "stream",
     "text": [
      "First missing positive number: 2\n"
     ]
    }
   ],
   "source": [
    "def find_first_missing_positive(nums):\n",
    "    n = len(nums)\n",
    "\n",
    "    # Step 1: Move all non-positive numbers to the left side\n",
    "    j = 0\n",
    "    for i in range(n):\n",
    "        if nums[i] <= 0:\n",
    "            nums[i], nums[j] = nums[j], nums[i]\n",
    "            j += 1\n",
    "\n",
    "    # Step 2: Consider the remaining positive numbers\n",
    "    size = n - j\n",
    "    for i in range(j, n):\n",
    "        num = abs(nums[i])\n",
    "\n",
    "        # Check if the number is within the valid range\n",
    "        if num <= size:\n",
    "            # Mark the presence of the number by making its corresponding index negative\n",
    "            index = j + num - 1\n",
    "            if nums[index] > 0:\n",
    "                nums[index] = -nums[index]\n",
    "\n",
    "    # Step 3: Find the first positive number's index, which indicates the first missing positive\n",
    "    for i in range(j, n):\n",
    "        if nums[i] > 0:\n",
    "            return i - j + 1\n",
    "\n",
    "    return size + 1\n",
    "\n",
    "# Example usage:\n",
    "numbers = [3, 4, -1, 1]\n",
    "result = find_first_missing_positive(numbers)\n",
    "print(\"First missing positive number:\", result)\n"
   ]
  },
  {
   "cell_type": "code",
   "execution_count": null,
   "id": "23407499",
   "metadata": {},
   "outputs": [],
   "source": []
  }
 ],
 "metadata": {
  "kernelspec": {
   "display_name": "Python 3 (ipykernel)",
   "language": "python",
   "name": "python3"
  },
  "language_info": {
   "codemirror_mode": {
    "name": "ipython",
    "version": 3
   },
   "file_extension": ".py",
   "mimetype": "text/x-python",
   "name": "python",
   "nbconvert_exporter": "python",
   "pygments_lexer": "ipython3",
   "version": "3.9.13"
  }
 },
 "nbformat": 4,
 "nbformat_minor": 5
}
