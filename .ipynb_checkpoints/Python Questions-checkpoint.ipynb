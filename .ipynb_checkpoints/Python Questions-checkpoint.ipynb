{
 "cells": [
  {
   "cell_type": "markdown",
   "id": "7eae5661",
   "metadata": {},
   "source": [
    "1. Write a Python program to reverse a string without using any built-in string reversal functions."
   ]
  },
  {
   "cell_type": "code",
   "execution_count": 45,
   "id": "414ab5d6",
   "metadata": {},
   "outputs": [],
   "source": [
    "def reversal(string):\n",
    "    reverse_string=''\n",
    "    for i in range(len(string)-1,-1,-1):\n",
    "        reverse_string+= string[i]\n",
    "    return reverse_string\n",
    "        \n",
    "        "
   ]
  },
  {
   "cell_type": "code",
   "execution_count": 46,
   "id": "bbad155b",
   "metadata": {},
   "outputs": [
    {
     "data": {
      "text/plain": [
       "'labias'"
      ]
     },
     "execution_count": 46,
     "metadata": {},
     "output_type": "execute_result"
    }
   ],
   "source": [
    "reversal(\"saibal\")"
   ]
  },
  {
   "cell_type": "markdown",
   "id": "232221a2",
   "metadata": {},
   "source": [
    "2. Implement a function to check if a given string is a palindrome.\n"
   ]
  },
  {
   "cell_type": "code",
   "execution_count": 48,
   "id": "8541e75e",
   "metadata": {},
   "outputs": [],
   "source": [
    "def palindrome(string):\n",
    "    reverse_string=''\n",
    "    for i in range(len(string)-1,-1,-1):\n",
    "        reverse_string+=string[i]\n",
    "    if reverse_string==string:\n",
    "        return \"PALINDROME....>True\"\n",
    "    else:\n",
    "        return \"NOT PALINDROME----->FALSE\""
   ]
  },
  {
   "cell_type": "code",
   "execution_count": 49,
   "id": "7d36790c",
   "metadata": {},
   "outputs": [
    {
     "data": {
      "text/plain": [
       "'PALINDROME....>True'"
      ]
     },
     "execution_count": 49,
     "metadata": {},
     "output_type": "execute_result"
    }
   ],
   "source": [
    "palindrome(\"madam\")"
   ]
  },
  {
   "cell_type": "markdown",
   "id": "9066daab",
   "metadata": {},
   "source": [
    "3. Write a program to find the largest element in a given list.\n"
   ]
  },
  {
   "cell_type": "code",
   "execution_count": 50,
   "id": "b91dba85",
   "metadata": {},
   "outputs": [],
   "source": [
    "def lar_element(nums):\n",
    "    large_element=float('-inf')\n",
    "    for i in range(len(nums)):\n",
    "        if nums[i]>large_element:\n",
    "            large_element = nums[i]\n",
    "    return large_element"
   ]
  },
  {
   "cell_type": "code",
   "execution_count": 51,
   "id": "931fe9b5",
   "metadata": {},
   "outputs": [
    {
     "data": {
      "text/plain": [
       "67"
      ]
     },
     "execution_count": 51,
     "metadata": {},
     "output_type": "execute_result"
    }
   ],
   "source": [
    "lar_element([12,34,2,45,67])"
   ]
  },
  {
   "cell_type": "markdown",
   "id": "94ef566e",
   "metadata": {},
   "source": [
    "4. Implement a function to count the occurrence of each element in a list.\n"
   ]
  },
  {
   "cell_type": "code",
   "execution_count": 63,
   "id": "dbe5ea5f",
   "metadata": {},
   "outputs": [],
   "source": [
    "def occurance(nums):\n",
    "    d={}\n",
    "    for i in range(len(nums)-1):\n",
    "        if nums[i] in d:\n",
    "            d[nums[i]]+=1\n",
    "        else:\n",
    "            d[nums[i]]=1\n",
    "    return d"
   ]
  },
  {
   "cell_type": "code",
   "execution_count": 64,
   "id": "2e53cc5c",
   "metadata": {},
   "outputs": [
    {
     "data": {
      "text/plain": [
       "{1: 4, 2: 3, 3: 3, 4: 4, 5: 1, 6: 1, 7: 1, 8: 2}"
      ]
     },
     "execution_count": 64,
     "metadata": {},
     "output_type": "execute_result"
    }
   ],
   "source": [
    "occurance([1,1,1,1,2,2,2,3,3,3,4,4,4,4,5,6,7,8,8,8])"
   ]
  },
  {
   "cell_type": "markdown",
   "id": "a4eb63a2",
   "metadata": {},
   "source": [
    "5. Write a Python program to find the second largest number in a list.\n"
   ]
  },
  {
   "cell_type": "code",
   "execution_count": 70,
   "id": "96969813",
   "metadata": {},
   "outputs": [],
   "source": [
    "def second_large(nums):\n",
    "    first_max = float('-inf')\n",
    "    second_max = float('-inf')\n",
    "    for i in range(len(nums)-1):\n",
    "        if nums[i]>first_max:\n",
    "            first_max = nums[i]\n",
    "            second_max = first_max\n",
    "        elif nums[i] > second_max and nums[i] < first_max:\n",
    "            second_max = nums[i]\n",
    "    return second_max\n",
    "        "
   ]
  },
  {
   "cell_type": "code",
   "execution_count": 71,
   "id": "043a63fb",
   "metadata": {},
   "outputs": [
    {
     "data": {
      "text/plain": [
       "67"
      ]
     },
     "execution_count": 71,
     "metadata": {},
     "output_type": "execute_result"
    }
   ],
   "source": [
    "second_large([12,10,23,45,56,67,76])"
   ]
  },
  {
   "cell_type": "markdown",
   "id": "eb646218",
   "metadata": {},
   "source": [
    "6. Implement a function to remove duplicate elements from a list."
   ]
  },
  {
   "cell_type": "code",
   "execution_count": 73,
   "id": "5d23429f",
   "metadata": {},
   "outputs": [],
   "source": [
    "def remove_duplicate(nums):\n",
    "    nums1=[]\n",
    "    for i in nums:\n",
    "        if i not in nums1:\n",
    "            nums1.append(i)\n",
    "    return nums1"
   ]
  },
  {
   "cell_type": "code",
   "execution_count": 74,
   "id": "28f2ebcf",
   "metadata": {},
   "outputs": [
    {
     "data": {
      "text/plain": [
       "[12, 34, 45]"
      ]
     },
     "execution_count": 74,
     "metadata": {},
     "output_type": "execute_result"
    }
   ],
   "source": [
    "remove_duplicate([12,34,45,12,34,45])"
   ]
  },
  {
   "cell_type": "markdown",
   "id": "fd85f7e5",
   "metadata": {},
   "source": [
    "7. Write a program to calculate the factorial of a given number.\n"
   ]
  },
  {
   "cell_type": "code",
   "execution_count": 1,
   "id": "ad65f7f9",
   "metadata": {},
   "outputs": [],
   "source": [
    "def factorial(n):\n",
    "    if n==1:\n",
    "        return n\n",
    "    else:\n",
    "        fact =n*factorial(n-1)\n",
    "    return fact"
   ]
  },
  {
   "cell_type": "code",
   "execution_count": 2,
   "id": "67f170b8",
   "metadata": {},
   "outputs": [
    {
     "data": {
      "text/plain": [
       "24"
      ]
     },
     "execution_count": 2,
     "metadata": {},
     "output_type": "execute_result"
    }
   ],
   "source": [
    "factorial(4)"
   ]
  },
  {
   "cell_type": "markdown",
   "id": "f11de0c5",
   "metadata": {},
   "source": [
    "8. Implement a function to check if a given number is prime.\n"
   ]
  },
  {
   "cell_type": "code",
   "execution_count": 22,
   "id": "773f3309",
   "metadata": {},
   "outputs": [],
   "source": [
    "def prime(n):\n",
    "    if n==1:\n",
    "        return \"NEIther prime or even\"\n",
    "    for i in range(2,n):\n",
    "        if n%i==0:\n",
    "            return \"NOT PRIME\"\n",
    "        \n",
    "    return \"Prime\""
   ]
  },
  {
   "cell_type": "code",
   "execution_count": 23,
   "id": "46275938",
   "metadata": {},
   "outputs": [
    {
     "data": {
      "text/plain": [
       "'NOT PRIME'"
      ]
     },
     "execution_count": 23,
     "metadata": {},
     "output_type": "execute_result"
    }
   ],
   "source": [
    "prime(9)"
   ]
  },
  {
   "cell_type": "markdown",
   "id": "4e38977b",
   "metadata": {},
   "source": [
    "9. Write a Python program to sort a list of integers in ascending order."
   ]
  },
  {
   "cell_type": "code",
   "execution_count": 35,
   "id": "c95ddda1",
   "metadata": {},
   "outputs": [],
   "source": [
    "def sorting(nums):\n",
    "    n=len(nums)\n",
    "    for i in range(n-1):\n",
    "        for j in range(i+1,n):\n",
    "            if nums[j]<nums[i]:\n",
    "                nums[j],nums[i]=nums[i],nums[j]\n",
    "    return nums\n",
    "                "
   ]
  },
  {
   "cell_type": "code",
   "execution_count": 36,
   "id": "853ca442",
   "metadata": {},
   "outputs": [
    {
     "data": {
      "text/plain": [
       "[0, 0, 1, 23, 34, 45, 89]"
      ]
     },
     "execution_count": 36,
     "metadata": {},
     "output_type": "execute_result"
    }
   ],
   "source": [
    "sorting([23,1,34,0,45,89,0])"
   ]
  },
  {
   "cell_type": "markdown",
   "id": "20a8b258",
   "metadata": {},
   "source": [
    "10. Implement a function to find the sum of all numbers in a list.\n"
   ]
  },
  {
   "cell_type": "code",
   "execution_count": 40,
   "id": "423d90a0",
   "metadata": {},
   "outputs": [],
   "source": [
    "def suming(nums):\n",
    "    sums=0\n",
    "    for i in nums:\n",
    "        sums+=i\n",
    "    return sums"
   ]
  },
  {
   "cell_type": "code",
   "execution_count": 41,
   "id": "cc0885aa",
   "metadata": {},
   "outputs": [
    {
     "data": {
      "text/plain": [
       "102"
      ]
     },
     "execution_count": 41,
     "metadata": {},
     "output_type": "execute_result"
    }
   ],
   "source": [
    "suming([23,34,45])"
   ]
  },
  {
   "cell_type": "markdown",
   "id": "3d19018f",
   "metadata": {},
   "source": [
    "11. Write a program to find the common elements between two lists.\n"
   ]
  },
  {
   "cell_type": "code",
   "execution_count": 54,
   "id": "bd1e49a9",
   "metadata": {},
   "outputs": [],
   "source": [
    "def common(nums1,nums2):\n",
    "    n1=len(nums1)\n",
    "    n2=len(nums2)\n",
    "    min_len=min(n1,n2)\n",
    "    common_list=[]\n",
    "    for i in range(min_len-1):\n",
    "        if nums1[i] in nums2:\n",
    "            common_list.append(nums1[i])\n",
    "        if nums2[i] in nums1:\n",
    "            if nums2[i] not in common_list:\n",
    "                common_list.append(nums2[i])\n",
    "    return common_list"
   ]
  },
  {
   "cell_type": "code",
   "execution_count": 72,
   "id": "64249629",
   "metadata": {},
   "outputs": [
    {
     "data": {
      "text/plain": [
       "[12, 45]"
      ]
     },
     "execution_count": 72,
     "metadata": {},
     "output_type": "execute_result"
    }
   ],
   "source": [
    "common([12,1,34,45],[23,12,12,45,0,67])"
   ]
  },
  {
   "cell_type": "code",
   "execution_count": 73,
   "id": "0fa7a86b",
   "metadata": {},
   "outputs": [],
   "source": [
    "#optimized solution"
   ]
  },
  {
   "cell_type": "code",
   "execution_count": 190,
   "id": "e112af69",
   "metadata": {},
   "outputs": [],
   "source": [
    "def common(nums1, nums2):\n",
    "    common_list = []\n",
    "    for num in nums1:\n",
    "        if num in nums2 and num not in common_list:\n",
    "            common_list.append(num)\n",
    "    return common_list\n"
   ]
  },
  {
   "cell_type": "code",
   "execution_count": 191,
   "id": "b78bd6c6",
   "metadata": {},
   "outputs": [
    {
     "data": {
      "text/plain": [
       "[12, 45]"
      ]
     },
     "execution_count": 191,
     "metadata": {},
     "output_type": "execute_result"
    }
   ],
   "source": [
    "common([12,1,34,45],[23,23,12,45,0,67])"
   ]
  },
  {
   "cell_type": "code",
   "execution_count": null,
   "id": "05e37c70",
   "metadata": {},
   "outputs": [],
   "source": []
  },
  {
   "cell_type": "markdown",
   "id": "e8323e20",
   "metadata": {},
   "source": [
    "12. Implement a function to check if a given string is an anagram of another string.\n"
   ]
  },
  {
   "cell_type": "code",
   "execution_count": 109,
   "id": "e7d6fc69",
   "metadata": {},
   "outputs": [],
   "source": [
    "def anagram(str1,str2):\n",
    "    if len(str1)!=len(str2):\n",
    "        return \"not anagram\"\n",
    "    \n",
    "    for i in range(len(str1)):\n",
    "        if str1[i].lower() not in str2 or str2[i].lower() not in str1:\n",
    "            return \"not anagram\"\n",
    "        \n",
    "    return \"anagram\""
   ]
  },
  {
   "cell_type": "code",
   "execution_count": 110,
   "id": "c20f72f7",
   "metadata": {},
   "outputs": [
    {
     "data": {
      "text/plain": [
       "'not anagram'"
      ]
     },
     "execution_count": 110,
     "metadata": {},
     "output_type": "execute_result"
    }
   ],
   "source": [
    "anagram(\"listen\",\"silenp\")"
   ]
  },
  {
   "cell_type": "code",
   "execution_count": 92,
   "id": "3efefc81",
   "metadata": {},
   "outputs": [],
   "source": [
    "def anagram(str1, str2):\n",
    "    if len(str1) != len(str2):\n",
    "        return \"Not anagram\"\n",
    "    \n",
    "    sorted_str1 = sorted(str1)\n",
    "    sorted_str2 = sorted(str2)\n",
    "    \n",
    "    if sorted_str1 == sorted_str2:\n",
    "        return \"Anagram\"\n",
    "    else:\n",
    "        return \"Not anagram\"\n"
   ]
  },
  {
   "cell_type": "code",
   "execution_count": 93,
   "id": "3d243798",
   "metadata": {},
   "outputs": [
    {
     "data": {
      "text/plain": [
       "'Not anagram'"
      ]
     },
     "execution_count": 93,
     "metadata": {},
     "output_type": "execute_result"
    }
   ],
   "source": [
    "anagram(\"silent\",\"listet\")"
   ]
  },
  {
   "cell_type": "markdown",
   "id": "32dbad21",
   "metadata": {},
   "source": [
    "13. Write a Python program to generate all permutations of a given string.\n"
   ]
  },
  {
   "cell_type": "code",
   "execution_count": 149,
   "id": "cf710dae",
   "metadata": {},
   "outputs": [],
   "source": [
    "def permutation(str1):\n",
    "    if len(str1)==0:\n",
    "        return \n",
    "    if len(str1)==1:\n",
    "        return str1\n",
    "    l1=[]\n",
    "    #word=''\n",
    "    for i in range(len(str1)):\n",
    "        \n",
    "        curr_char=str1[i]\n",
    "        rest_char = str1[:i]+str1[i+1:]\n",
    "#         word = curr_char+rest_char\n",
    "#         #l1.append(word)\n",
    "        for j in permutation(rest_char):\n",
    "            l1.append(curr_char+rest_char)\n",
    "            \n",
    "    return l1\n",
    "        "
   ]
  },
  {
   "cell_type": "code",
   "execution_count": 150,
   "id": "1dd95f6f",
   "metadata": {},
   "outputs": [
    {
     "data": {
      "text/plain": [
       "['abc', 'abc', 'bac', 'bac', 'cab', 'cab']"
      ]
     },
     "execution_count": 150,
     "metadata": {},
     "output_type": "execute_result"
    }
   ],
   "source": [
    "permutation('abc')"
   ]
  },
  {
   "cell_type": "markdown",
   "id": "a19ee7ba",
   "metadata": {},
   "source": [
    "14. Implement a function to calculate the Fibonacci sequence up to a given number of terms.\n"
   ]
  },
  {
   "cell_type": "code",
   "execution_count": 167,
   "id": "9aa9ec2e",
   "metadata": {},
   "outputs": [],
   "source": [
    "def fibo_series(n):\n",
    "    \n",
    "    a=0\n",
    "    b=1\n",
    "    l=[]\n",
    "    for i in range(n):\n",
    "        a,b=b,a+b\n",
    "        l.append(a)\n",
    "        #print(a)\n",
    "    \n",
    "    return l"
   ]
  },
  {
   "cell_type": "code",
   "execution_count": 168,
   "id": "7aa6a20d",
   "metadata": {},
   "outputs": [
    {
     "data": {
      "text/plain": [
       "[1, 1, 2, 3, 5]"
      ]
     },
     "execution_count": 168,
     "metadata": {},
     "output_type": "execute_result"
    }
   ],
   "source": [
    "fibo_series(5)"
   ]
  },
  {
   "cell_type": "markdown",
   "id": "d9cc7579",
   "metadata": {},
   "source": [
    "15. Write a program to find the median of a list of numbers.\n"
   ]
  },
  {
   "cell_type": "code",
   "execution_count": 183,
   "id": "10a384ea",
   "metadata": {},
   "outputs": [],
   "source": [
    "def median(nums):\n",
    "    nums=sorted(nums)\n",
    "    if len(nums)%2==0:\n",
    "        mid = (nums[len(nums)//2]+nums[len(nums)//2-1])/2\n",
    "        return mid\n",
    "    else:\n",
    "        return nums[len(nums)//2]"
   ]
  },
  {
   "cell_type": "code",
   "execution_count": 184,
   "id": "9d9f9b35",
   "metadata": {},
   "outputs": [
    {
     "data": {
      "text/plain": [
       "39.5"
      ]
     },
     "execution_count": 184,
     "metadata": {},
     "output_type": "execute_result"
    }
   ],
   "source": [
    "median([23,12,34,45,56,87])"
   ]
  },
  {
   "cell_type": "markdown",
   "id": "9c4f2e8d",
   "metadata": {},
   "source": [
    "16. Implement a function to check if a given list is sorted in non-decreasing order.\n"
   ]
  },
  {
   "cell_type": "code",
   "execution_count": 185,
   "id": "a597be36",
   "metadata": {},
   "outputs": [],
   "source": [
    "def is_sorted(nums):\n",
    "    n = len(nums)\n",
    "    for i in range(n-1):\n",
    "        if nums[i] > nums[i+1]:\n",
    "            return False\n",
    "    return True\n"
   ]
  },
  {
   "cell_type": "code",
   "execution_count": 186,
   "id": "a0bd8427",
   "metadata": {},
   "outputs": [
    {
     "data": {
      "text/plain": [
       "False"
      ]
     },
     "execution_count": 186,
     "metadata": {},
     "output_type": "execute_result"
    }
   ],
   "source": [
    "is_sorted([34,23,12,10])"
   ]
  },
  {
   "cell_type": "code",
   "execution_count": 187,
   "id": "59725285",
   "metadata": {},
   "outputs": [
    {
     "data": {
      "text/plain": [
       "True"
      ]
     },
     "execution_count": 187,
     "metadata": {},
     "output_type": "execute_result"
    }
   ],
   "source": [
    "is_sorted([12,13,34,45])"
   ]
  },
  {
   "cell_type": "markdown",
   "id": "c291ec8d",
   "metadata": {},
   "source": [
    "17. Write a Python program to find the intersection of two lists.\n"
   ]
  },
  {
   "cell_type": "code",
   "execution_count": 188,
   "id": "2cdb951f",
   "metadata": {},
   "outputs": [],
   "source": [
    "def common(nums1, nums2):\n",
    "    common_list = []\n",
    "    for num in nums1:\n",
    "        if num in nums2 and num not in common_list:\n",
    "            common_list.append(num)\n",
    "    return common_list"
   ]
  },
  {
   "cell_type": "code",
   "execution_count": 192,
   "id": "1a51d784",
   "metadata": {},
   "outputs": [
    {
     "data": {
      "text/plain": [
       "[4, 5]"
      ]
     },
     "execution_count": 192,
     "metadata": {},
     "output_type": "execute_result"
    }
   ],
   "source": [
    "list1 = [1, 2, 3, 4, 5]\n",
    "list2 = [4, 5, 6, 7, 8]\n",
    "common(list1, list2)"
   ]
  },
  {
   "cell_type": "markdown",
   "id": "1b36fe43",
   "metadata": {},
   "source": [
    "18. Implement a function to find the maximum subarray sum in a given list."
   ]
  },
  {
   "cell_type": "code",
   "execution_count": 195,
   "id": "0a0b5b9e",
   "metadata": {},
   "outputs": [],
   "source": [
    "def max_subarray_sum(nums):\n",
    "    max_sum = float('-inf')\n",
    "    current_sum = 0\n",
    "    start = 0\n",
    "    end = 0\n",
    "    temp_start = 0\n",
    "    temp_end = 0\n",
    "\n",
    "    for i, num in enumerate(nums):\n",
    "        if current_sum + num < num:\n",
    "            current_sum = num\n",
    "            temp_start = i\n",
    "            temp_end = i\n",
    "        else:\n",
    "            current_sum += num\n",
    "            temp_end = i\n",
    "\n",
    "        if current_sum > max_sum:\n",
    "            max_sum = current_sum\n",
    "            start = temp_start\n",
    "            end = temp_end\n",
    "\n",
    "    subarray = nums[start : end + 1]\n",
    "    return max_sum, subarray\n"
   ]
  },
  {
   "cell_type": "code",
   "execution_count": 197,
   "id": "71e32d65",
   "metadata": {},
   "outputs": [
    {
     "data": {
      "text/plain": [
       "(6, [2, 1, -1, 4])"
      ]
     },
     "execution_count": 197,
     "metadata": {},
     "output_type": "execute_result"
    }
   ],
   "source": [
    "max_subarray_sum([1, -3, 2, 1, -1, 4, -2])"
   ]
  },
  {
   "cell_type": "markdown",
   "id": "8e7fc00d",
   "metadata": {},
   "source": [
    "19. Write a program to remove all vowels from a given string.\n"
   ]
  },
  {
   "cell_type": "code",
   "execution_count": 200,
   "id": "aae89d68",
   "metadata": {},
   "outputs": [],
   "source": [
    "def remove(str1):\n",
    "    l1=[]\n",
    "    for i in str1:\n",
    "        i=i.lower()\n",
    "        if i in \"aeiou\":\n",
    "            continue\n",
    "        else:\n",
    "            l1.append(i)\n",
    "    return \"\".join(l1)"
   ]
  },
  {
   "cell_type": "code",
   "execution_count": 201,
   "id": "42e7fb59",
   "metadata": {},
   "outputs": [
    {
     "data": {
      "text/plain": [
       "'sbl'"
      ]
     },
     "execution_count": 201,
     "metadata": {},
     "output_type": "execute_result"
    }
   ],
   "source": [
    "remove(\"saibal\")"
   ]
  },
  {
   "cell_type": "markdown",
   "id": "168e9a09",
   "metadata": {},
   "source": [
    "20. Implement a function to reverse the order of words in a given sentence."
   ]
  },
  {
   "cell_type": "code",
   "execution_count": 202,
   "id": "a022ca14",
   "metadata": {},
   "outputs": [],
   "source": [
    "def reverse_sentence(sentence):\n",
    "    words = sentence.split()\n",
    "    reversed_words = words[::-1]\n",
    "    reversed_sentence = ' '.join(reversed_words)\n",
    "    return reversed_sentence\n"
   ]
  },
  {
   "cell_type": "code",
   "execution_count": 204,
   "id": "5b7ff6f8",
   "metadata": {},
   "outputs": [
    {
     "data": {
      "text/plain": [
       "'scientist data a is saibal'"
      ]
     },
     "execution_count": 204,
     "metadata": {},
     "output_type": "execute_result"
    }
   ],
   "source": [
    "reverse_sentence(\"saibal is a data scientist\")"
   ]
  },
  {
   "cell_type": "code",
   "execution_count": 205,
   "id": "68757e45",
   "metadata": {},
   "outputs": [],
   "source": [
    "def check_anagrams(str1, str2):\n",
    "    return sorted(str1.lower()) == sorted(str2.lower())\n"
   ]
  },
  {
   "cell_type": "code",
   "execution_count": 206,
   "id": "cb0c9ca7",
   "metadata": {},
   "outputs": [
    {
     "data": {
      "text/plain": [
       "True"
      ]
     },
     "execution_count": 206,
     "metadata": {},
     "output_type": "execute_result"
    }
   ],
   "source": [
    "check_anagrams(\"silent\",\"listen\")"
   ]
  },
  {
   "cell_type": "code",
   "execution_count": null,
   "id": "7039c6cb",
   "metadata": {},
   "outputs": [],
   "source": []
  }
 ],
 "metadata": {
  "kernelspec": {
   "display_name": "Python 3 (ipykernel)",
   "language": "python",
   "name": "python3"
  },
  "language_info": {
   "codemirror_mode": {
    "name": "ipython",
    "version": 3
   },
   "file_extension": ".py",
   "mimetype": "text/x-python",
   "name": "python",
   "nbconvert_exporter": "python",
   "pygments_lexer": "ipython3",
   "version": "3.9.13"
  }
 },
 "nbformat": 4,
 "nbformat_minor": 5
}
